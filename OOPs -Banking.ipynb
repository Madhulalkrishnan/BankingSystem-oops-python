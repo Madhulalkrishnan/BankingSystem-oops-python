{
 "cells": [
  {
   "cell_type": "markdown",
   "id": "03dba9b1-54dc-4d2e-834a-89128e405203",
   "metadata": {},
   "source": [
    "Write a python program to replicate a Banking system. The following features are mandatory:\n",
    "1. Account login\n",
    "2. Amount Depositing\n",
    "3. Amount Withdrawal\n",
    "\n",
    "Other than the above features you can add any other also.\n",
    "\n",
    "5.Check Balance \n",
    "\n",
    "6.Transaction History\n"
   ]
  },
  {
   "cell_type": "code",
   "execution_count": 4,
   "id": "03406592-081c-40e8-8a1b-80aad1b2bc4e",
   "metadata": {},
   "outputs": [
    {
     "name": "stdout",
     "output_type": "stream",
     "text": [
      "\n",
      "--- Welcome to the Banking System ---\n",
      "1. Create Account\n",
      "2. Login\n",
      "3. Exit\n"
     ]
    },
    {
     "name": "stdin",
     "output_type": "stream",
     "text": [
      "Enter your choice:  1\n",
      "Enter a username:  madhulal\n",
      "Enter a password:  madhulal@123\n",
      "Enter initial balance (optional, default is 0):  500000\n"
     ]
    },
    {
     "name": "stdout",
     "output_type": "stream",
     "text": [
      "Account created successfully for madhulal!\n",
      "\n",
      "--- Welcome to the Banking System ---\n",
      "1. Create Account\n",
      "2. Login\n",
      "3. Exit\n"
     ]
    },
    {
     "name": "stdin",
     "output_type": "stream",
     "text": [
      "Enter your choice:  2\n",
      "Enter your username:  madhulal\n",
      "Enter your password:  madhulal@123\n"
     ]
    },
    {
     "name": "stdout",
     "output_type": "stream",
     "text": [
      "Login successful!\n",
      "\n",
      "--- Banking Menu ---\n",
      "1. Deposit\n",
      "2. Withdraw\n",
      "3. Check Balance\n",
      "4. Transaction History\n",
      "5. Logout\n"
     ]
    },
    {
     "name": "stdin",
     "output_type": "stream",
     "text": [
      "Enter your choice:  3\n"
     ]
    },
    {
     "name": "stdout",
     "output_type": "stream",
     "text": [
      "Current Balance: 500000.0\n",
      "\n",
      "--- Banking Menu ---\n",
      "1. Deposit\n",
      "2. Withdraw\n",
      "3. Check Balance\n",
      "4. Transaction History\n",
      "5. Logout\n"
     ]
    },
    {
     "name": "stdin",
     "output_type": "stream",
     "text": [
      "Enter your choice:  4\n"
     ]
    },
    {
     "name": "stdout",
     "output_type": "stream",
     "text": [
      "Transaction History:\n",
      "\n",
      "--- Banking Menu ---\n",
      "1. Deposit\n",
      "2. Withdraw\n",
      "3. Check Balance\n",
      "4. Transaction History\n",
      "5. Logout\n"
     ]
    },
    {
     "name": "stdin",
     "output_type": "stream",
     "text": [
      "Enter your choice:  1\n",
      "Enter amount to deposit:  10000\n"
     ]
    },
    {
     "name": "stdout",
     "output_type": "stream",
     "text": [
      "Deposited 10000.0. New Balance: 510000.0\n",
      "\n",
      "--- Banking Menu ---\n",
      "1. Deposit\n",
      "2. Withdraw\n",
      "3. Check Balance\n",
      "4. Transaction History\n",
      "5. Logout\n"
     ]
    },
    {
     "name": "stdin",
     "output_type": "stream",
     "text": [
      "Enter your choice:  2\n",
      "Enter amount to withdraw:  38500\n"
     ]
    },
    {
     "name": "stdout",
     "output_type": "stream",
     "text": [
      "Withdrew 38500.0. New Balance: 471500.0\n",
      "\n",
      "--- Banking Menu ---\n",
      "1. Deposit\n",
      "2. Withdraw\n",
      "3. Check Balance\n",
      "4. Transaction History\n",
      "5. Logout\n"
     ]
    },
    {
     "name": "stdin",
     "output_type": "stream",
     "text": [
      "Enter your choice:  4\n"
     ]
    },
    {
     "name": "stdout",
     "output_type": "stream",
     "text": [
      "Transaction History:\n",
      "Deposited: 10000.0\n",
      "Withdrew: 38500.0\n",
      "\n",
      "--- Banking Menu ---\n",
      "1. Deposit\n",
      "2. Withdraw\n",
      "3. Check Balance\n",
      "4. Transaction History\n",
      "5. Logout\n"
     ]
    },
    {
     "name": "stdin",
     "output_type": "stream",
     "text": [
      "Enter your choice:  4\n"
     ]
    },
    {
     "name": "stdout",
     "output_type": "stream",
     "text": [
      "Transaction History:\n",
      "Deposited: 10000.0\n",
      "Withdrew: 38500.0\n",
      "\n",
      "--- Banking Menu ---\n",
      "1. Deposit\n",
      "2. Withdraw\n",
      "3. Check Balance\n",
      "4. Transaction History\n",
      "5. Logout\n"
     ]
    },
    {
     "name": "stdin",
     "output_type": "stream",
     "text": [
      "Enter your choice:  3\n"
     ]
    },
    {
     "name": "stdout",
     "output_type": "stream",
     "text": [
      "Current Balance: 471500.0\n",
      "\n",
      "--- Banking Menu ---\n",
      "1. Deposit\n",
      "2. Withdraw\n",
      "3. Check Balance\n",
      "4. Transaction History\n",
      "5. Logout\n"
     ]
    },
    {
     "name": "stdin",
     "output_type": "stream",
     "text": [
      "Enter your choice:  5\n"
     ]
    },
    {
     "name": "stdout",
     "output_type": "stream",
     "text": [
      "Logged out successfully.\n",
      "\n",
      "--- Welcome to the Banking System ---\n",
      "1. Create Account\n",
      "2. Login\n",
      "3. Exit\n"
     ]
    },
    {
     "name": "stdin",
     "output_type": "stream",
     "text": [
      "Enter your choice:  3\n"
     ]
    },
    {
     "name": "stdout",
     "output_type": "stream",
     "text": [
      "Thank you for using the Banking System. Goodbye!\n"
     ]
    }
   ],
   "source": [
    "class Bank:\n",
    "    def __init__(self):\n",
    "        self.accounts = {}  # Store accounts with username as key\n",
    "\n",
    "    def create_account(self, username, password, initial_balance=0):\n",
    "        if username in self.accounts:\n",
    "            print(\"Account already exists!\")\n",
    "        else:\n",
    "            self.accounts[username] = {\n",
    "                \"password\": password,\n",
    "                \"balance\": initial_balance,\n",
    "                \"transactions\": []\n",
    "            }\n",
    "            print(f\"Account created successfully for {username}!\")\n",
    "\n",
    "    def login(self, username, password):\n",
    "        if username in self.accounts and self.accounts[username][\"password\"] == password:\n",
    "            print(\"Login successful!\")\n",
    "            return username\n",
    "        else:\n",
    "            print(\"Invalid username or password.\")\n",
    "            return None\n",
    "\n",
    "    def deposit(self, username, amount):\n",
    "        if amount > 0:\n",
    "            self.accounts[username][\"balance\"] += amount\n",
    "            self.accounts[username][\"transactions\"].append(f\"Deposited: {amount}\")\n",
    "            print(f\"Deposited {amount}. New Balance: {self.accounts[username]['balance']}\")\n",
    "        else:\n",
    "            print(\"Invalid deposit amount!\")\n",
    "\n",
    "    def withdraw(self, username, amount):\n",
    "        if amount > 0 and self.accounts[username][\"balance\"] >= amount:\n",
    "            self.accounts[username][\"balance\"] -= amount\n",
    "            self.accounts[username][\"transactions\"].append(f\"Withdrew: {amount}\")\n",
    "            print(f\"Withdrew {amount}. New Balance: {self.accounts[username]['balance']}\")\n",
    "        else:\n",
    "            print(\"Insufficient balance or invalid amount!\")\n",
    "\n",
    "    def check_balance(self, username):\n",
    "        print(f\"Current Balance: {self.accounts[username]['balance']}\")\n",
    "\n",
    "    def transaction_history(self, username):\n",
    "        print(\"Transaction History:\")\n",
    "        for transaction in self.accounts[username][\"transactions\"]:\n",
    "            print(transaction)\n",
    "\n",
    "\n",
    "# Main Program\n",
    "bank = Bank()\n",
    "\n",
    "while True:\n",
    "    print(\"\\n--- Welcome to the Banking System ---\")\n",
    "    print(\"1. Create Account\")\n",
    "    print(\"2. Login\")\n",
    "    print(\"3. Exit\")\n",
    "    choice = input(\"Enter your choice: \")\n",
    "\n",
    "    if choice == \"1\":\n",
    "        username = input(\"Enter a username: \")\n",
    "        password = input(\"Enter a password: \")\n",
    "        initial_balance = float(input(\"Enter initial balance (optional, default is 0): \") or 0)\n",
    "        bank.create_account(username, password, initial_balance)\n",
    "\n",
    "    elif choice == \"2\":\n",
    "        username = input(\"Enter your username: \")\n",
    "        password = input(\"Enter your password: \")\n",
    "        logged_in_user = bank.login(username, password)\n",
    "\n",
    "        if logged_in_user:\n",
    "            while True:\n",
    "                print(\"\\n--- Banking Menu ---\")\n",
    "                print(\"1. Deposit\")\n",
    "                print(\"2. Withdraw\")\n",
    "                print(\"3. Check Balance\")\n",
    "                print(\"4. Transaction History\")\n",
    "                print(\"5. Logout\")\n",
    "                sub_choice = input(\"Enter your choice: \")\n",
    "\n",
    "                if sub_choice == \"1\":\n",
    "                    amount = float(input(\"Enter amount to deposit: \"))\n",
    "                    bank.deposit(logged_in_user, amount)\n",
    "\n",
    "                elif sub_choice == \"2\":\n",
    "                    amount = float(input(\"Enter amount to withdraw: \"))\n",
    "                    bank.withdraw(logged_in_user, amount)\n",
    "\n",
    "                elif sub_choice == \"3\":\n",
    "                    bank.check_balance(logged_in_user)\n",
    "\n",
    "                elif sub_choice == \"4\":\n",
    "                    bank.transaction_history(logged_in_user)\n",
    "\n",
    "                elif sub_choice == \"5\":\n",
    "                    print(\"Logged out successfully.\")\n",
    "                    break\n",
    "\n",
    "                else:\n",
    "                    print(\"Invalid choice! Try again.\")\n",
    "\n",
    "    elif choice == \"3\":\n",
    "        print(\"Thank you for using the Banking System. Goodbye!\")\n",
    "        break\n",
    "\n",
    "    else:\n",
    "        print(\"Invalid choice! Try again.\")\n"
   ]
  },
  {
   "cell_type": "code",
   "execution_count": null,
   "id": "9bcfc1b3-2704-4b45-b1b9-effcc315dece",
   "metadata": {},
   "outputs": [],
   "source": []
  }
 ],
 "metadata": {
  "kernelspec": {
   "display_name": "Python [conda env:base] *",
   "language": "python",
   "name": "conda-base-py"
  },
  "language_info": {
   "codemirror_mode": {
    "name": "ipython",
    "version": 3
   },
   "file_extension": ".py",
   "mimetype": "text/x-python",
   "name": "python",
   "nbconvert_exporter": "python",
   "pygments_lexer": "ipython3",
   "version": "3.12.7"
  }
 },
 "nbformat": 4,
 "nbformat_minor": 5
}
